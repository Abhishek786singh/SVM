{
 "cells": [
  {
   "cell_type": "code",
   "execution_count": 24,
   "metadata": {},
   "outputs": [],
   "source": [
    "import numpy as np \n",
    "import matplotlib.pyplot as plt\n",
    "import pandas as pd\n",
    "from sklearn import svm\n",
    "import seaborn as sns\n",
    "sns.set(font_scale=1.2)\n",
    "#%matplot inline\n",
    "recipes=pd.read_csv(\"G:/Newfolder/muffin-cupcake-master/recipes_muffins_cupcakes.csv\")\n"
   ]
  },
  {
   "cell_type": "code",
   "execution_count": 25,
   "metadata": {},
   "outputs": [
    {
     "data": {
      "text/html": [
       "<div>\n",
       "<style scoped>\n",
       "    .dataframe tbody tr th:only-of-type {\n",
       "        vertical-align: middle;\n",
       "    }\n",
       "\n",
       "    .dataframe tbody tr th {\n",
       "        vertical-align: top;\n",
       "    }\n",
       "\n",
       "    .dataframe thead th {\n",
       "        text-align: right;\n",
       "    }\n",
       "</style>\n",
       "<table border=\"1\" class=\"dataframe\">\n",
       "  <thead>\n",
       "    <tr style=\"text-align: right;\">\n",
       "      <th></th>\n",
       "      <th>Type</th>\n",
       "      <th>Flour</th>\n",
       "      <th>Milk</th>\n",
       "      <th>Sugar</th>\n",
       "      <th>Butter</th>\n",
       "      <th>Egg</th>\n",
       "      <th>Baking Powder</th>\n",
       "      <th>Vanilla</th>\n",
       "      <th>Salt</th>\n",
       "    </tr>\n",
       "  </thead>\n",
       "  <tbody>\n",
       "    <tr>\n",
       "      <th>0</th>\n",
       "      <td>Muffin</td>\n",
       "      <td>55</td>\n",
       "      <td>28</td>\n",
       "      <td>3</td>\n",
       "      <td>7</td>\n",
       "      <td>5</td>\n",
       "      <td>2</td>\n",
       "      <td>0</td>\n",
       "      <td>0</td>\n",
       "    </tr>\n",
       "    <tr>\n",
       "      <th>1</th>\n",
       "      <td>Muffin</td>\n",
       "      <td>47</td>\n",
       "      <td>24</td>\n",
       "      <td>12</td>\n",
       "      <td>6</td>\n",
       "      <td>9</td>\n",
       "      <td>1</td>\n",
       "      <td>0</td>\n",
       "      <td>0</td>\n",
       "    </tr>\n",
       "    <tr>\n",
       "      <th>2</th>\n",
       "      <td>Muffin</td>\n",
       "      <td>47</td>\n",
       "      <td>23</td>\n",
       "      <td>18</td>\n",
       "      <td>6</td>\n",
       "      <td>4</td>\n",
       "      <td>1</td>\n",
       "      <td>0</td>\n",
       "      <td>0</td>\n",
       "    </tr>\n",
       "    <tr>\n",
       "      <th>3</th>\n",
       "      <td>Muffin</td>\n",
       "      <td>45</td>\n",
       "      <td>11</td>\n",
       "      <td>17</td>\n",
       "      <td>17</td>\n",
       "      <td>8</td>\n",
       "      <td>1</td>\n",
       "      <td>0</td>\n",
       "      <td>0</td>\n",
       "    </tr>\n",
       "    <tr>\n",
       "      <th>4</th>\n",
       "      <td>Muffin</td>\n",
       "      <td>50</td>\n",
       "      <td>25</td>\n",
       "      <td>12</td>\n",
       "      <td>6</td>\n",
       "      <td>5</td>\n",
       "      <td>2</td>\n",
       "      <td>1</td>\n",
       "      <td>0</td>\n",
       "    </tr>\n",
       "  </tbody>\n",
       "</table>\n",
       "</div>"
      ],
      "text/plain": [
       "     Type  Flour  Milk  Sugar  Butter  Egg  Baking Powder  Vanilla  Salt\n",
       "0  Muffin     55    28      3       7    5              2        0     0\n",
       "1  Muffin     47    24     12       6    9              1        0     0\n",
       "2  Muffin     47    23     18       6    4              1        0     0\n",
       "3  Muffin     45    11     17      17    8              1        0     0\n",
       "4  Muffin     50    25     12       6    5              2        1     0"
      ]
     },
     "execution_count": 25,
     "metadata": {},
     "output_type": "execute_result"
    }
   ],
   "source": [
    "recipes.head()"
   ]
  },
  {
   "cell_type": "code",
   "execution_count": 1,
   "metadata": {},
   "outputs": [],
   "source": [
    "#sns.lmplot('Flour','Sugar',data=recipes,hue='Type',palette='set1',fit_reg=False,scatter_kws={\"s\":70})"
   ]
  },
  {
   "cell_type": "code",
   "execution_count": 28,
   "metadata": {},
   "outputs": [],
   "source": [
    "type_label=np.where(recipes['Type']=='Muffin',0,1)\n",
    "recipe_feature=recipes.columns.values[1:].tolist()"
   ]
  },
  {
   "cell_type": "code",
   "execution_count": 31,
   "metadata": {},
   "outputs": [
    {
     "data": {
      "text/plain": [
       "['Flour', 'Milk', 'Sugar', 'Butter', 'Egg', 'Baking Powder', 'Vanilla', 'Salt']"
      ]
     },
     "execution_count": 31,
     "metadata": {},
     "output_type": "execute_result"
    }
   ],
   "source": [
    "recipe_feature"
   ]
  },
  {
   "cell_type": "code",
   "execution_count": 34,
   "metadata": {},
   "outputs": [
    {
     "data": {
      "text/plain": [
       "array([[55, 28,  3,  7,  5,  2,  0,  0],\n",
       "       [47, 24, 12,  6,  9,  1,  0,  0],\n",
       "       [47, 23, 18,  6,  4,  1,  0,  0],\n",
       "       [45, 11, 17, 17,  8,  1,  0,  0],\n",
       "       [50, 25, 12,  6,  5,  2,  1,  0],\n",
       "       [55, 27,  3,  7,  5,  2,  1,  0],\n",
       "       [54, 27,  7,  5,  5,  2,  0,  0],\n",
       "       [47, 26, 10, 10,  4,  1,  0,  0],\n",
       "       [50, 17, 17,  8,  6,  1,  0,  0],\n",
       "       [50, 17, 17, 11,  4,  1,  0,  0],\n",
       "       [39,  0, 26, 19, 14,  1,  1,  0],\n",
       "       [42, 21, 16, 10,  8,  3,  0,  0],\n",
       "       [34, 17, 20, 20,  5,  2,  1,  0],\n",
       "       [39, 13, 17, 19, 10,  1,  1,  0],\n",
       "       [38, 15, 23, 15,  8,  0,  1,  0],\n",
       "       [42, 18, 25,  9,  5,  1,  0,  0],\n",
       "       [36, 14, 21, 14, 11,  2,  1,  0],\n",
       "       [38, 15, 31,  8,  6,  1,  1,  0],\n",
       "       [36, 16, 24, 12,  9,  1,  1,  0],\n",
       "       [34, 17, 23, 11, 13,  0,  1,  0]], dtype=int64)"
      ]
     },
     "execution_count": 34,
     "metadata": {},
     "output_type": "execute_result"
    }
   ],
   "source": [
    "ingredients=recipes[recipe_feature].values\n",
    "ingredients\n"
   ]
  },
  {
   "cell_type": "code",
   "execution_count": 36,
   "metadata": {},
   "outputs": [
    {
     "data": {
      "text/plain": [
       "array([[55,  3],\n",
       "       [47, 12],\n",
       "       [47, 18],\n",
       "       [45, 17],\n",
       "       [50, 12],\n",
       "       [55,  3],\n",
       "       [54,  7],\n",
       "       [47, 10],\n",
       "       [50, 17],\n",
       "       [50, 17],\n",
       "       [39, 26],\n",
       "       [42, 16],\n",
       "       [34, 20],\n",
       "       [39, 17],\n",
       "       [38, 23],\n",
       "       [42, 25],\n",
       "       [36, 21],\n",
       "       [38, 31],\n",
       "       [36, 24],\n",
       "       [34, 23]], dtype=int64)"
      ]
     },
     "execution_count": 36,
     "metadata": {},
     "output_type": "execute_result"
    }
   ],
   "source": [
    "ingredients=recipes[['Flour','Sugar']].values\n",
    "ingredients"
   ]
  },
  {
   "cell_type": "code",
   "execution_count": 37,
   "metadata": {},
   "outputs": [
    {
     "data": {
      "text/plain": [
       "SVC(C=1.0, cache_size=200, class_weight=None, coef0=0.0,\n",
       "    decision_function_shape='ovr', degree=3, gamma='auto_deprecated',\n",
       "    kernel='linear', max_iter=-1, probability=False, random_state=None,\n",
       "    shrinking=True, tol=0.001, verbose=False)"
      ]
     },
     "execution_count": 37,
     "metadata": {},
     "output_type": "execute_result"
    }
   ],
   "source": [
    "model=svm.SVC(kernel='linear')\n",
    "model.fit(ingredients,type_label)"
   ]
  },
  {
   "cell_type": "code",
   "execution_count": 38,
   "metadata": {},
   "outputs": [],
   "source": [
    " w=model.coef_[0 ]\n",
    " a=-w[0]/w[1]\n",
    "xx=np.linspace(40,60)\n",
    "yy=a*xx-(model.intercept_[0])/w[1]\n",
    "\n",
    "b=model.support_vectors_[0]\n",
    "yy_down=a*xx+ ([1]-a*b[0])\n",
    "b=model.support_vectors_[-1]\n",
    "yy_up=a*xx+(b[1]-a*b[0])"
   ]
  },
  {
   "cell_type": "code",
   "execution_count": 40,
   "metadata": {},
   "outputs": [
    {
     "data": {
      "image/png": "[encoded data removed]",
      "text/plain": [
       "<Figure size 432x288 with 1 Axes>"
      ]
     },
     "metadata": {},
     "output_type": "display_data"
    }
   ],
   "source": [
    "plt.plot(xx,yy)\n",
    "plt.show()"
   ]
  },
  {
   "cell_type": "code",
   "execution_count": 41,
   "metadata": {},
   "outputs": [
    {
     "name": "stdout",
     "output_type": "stream",
     "text": [
      "muffin\n"
     ]
    }
   ],
   "source": [
    "def muffin_or_cupcake(Flour,sugar):\n",
    "    if(model.predict([[Flour,sugar]]))==0:\n",
    "        print(\"muffin\")\n",
    "    else:\n",
    "        print(\"cupcake\")\n",
    "        \n",
    "muffin_or_cupcake(50,40)\n"
   ]
  },
  {
   "cell_type": "code",
   "execution_count": null,
   "metadata": {},
   "outputs": [],
   "source": []
  }
 ],
 "metadata": {
  "kernelspec": {
   "display_name": "Python 3",
   "language": "python",
   "name": "python3"
  },
  "language_info": {
   "codemirror_mode": {
    "name": "ipython",
    "version": 3
   },
   "file_extension": ".py",
   "mimetype": "text/x-python",
   "name": "python",
   "nbconvert_exporter": "python",
   "pygments_lexer": "ipython3",
   "version": "3.7.3"
  }
 },
 "nbformat": 4,
 "nbformat_minor": 2
}
